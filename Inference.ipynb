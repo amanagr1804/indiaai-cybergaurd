{
  "nbformat": 4,
  "nbformat_minor": 0,
  "metadata": {
    "colab": {
      "provenance": []
    },
    "kernelspec": {
      "name": "python3",
      "display_name": "Python 3"
    },
    "language_info": {
      "name": "python"
    }
  },
  "cells": [
    {
      "cell_type": "code",
      "execution_count": null,
      "metadata": {
        "id": "WZOx8ZWFHwET"
      },
      "outputs": [],
      "source": [
        "from transformers import T5Tokenizer, T5ForConditionalGeneration\n",
        "\n",
        "# Load the fine-tuned model and tokenizer\n",
        "model_path = \"/content/drive/MyDrive/t5_tuned\"  # Path where the model is saved\n",
        "tokenizer = T5Tokenizer.from_pretrained(model_path)\n",
        "model = T5ForConditionalGeneration.from_pretrained(model_path)\n",
        "\n",
        "# Move model to GPU if available\n",
        "import torch\n",
        "device = torch.device(\"cuda\" if torch.cuda.is_available() else \"cpu\")\n",
        "model.to(device)\n",
        "\n",
        "# Function to predict category and sub-category\n",
        "def predict_category_and_subcategory(input_text):\n",
        "    # Tokenize the input\n",
        "    inputs = tokenizer(\n",
        "        input_text,\n",
        "        max_length=128,\n",
        "        truncation=True,\n",
        "        padding=\"max_length\",\n",
        "        return_tensors=\"pt\"\n",
        "    ).to(device)\n",
        "\n",
        "    # Generate predictions\n",
        "    with torch.no_grad():\n",
        "        outputs = model.generate(\n",
        "            input_ids=inputs[\"input_ids\"],\n",
        "            attention_mask=inputs[\"attention_mask\"],\n",
        "            max_length=64,\n",
        "            num_beams=4,\n",
        "            early_stopping=True\n",
        "        )\n",
        "\n",
        "    # Decode predictions\n",
        "    predicted_text = tokenizer.decode(outputs[0], skip_special_tokens=True)\n",
        "    return predicted_text\n",
        "\n",
        "# Test with a manual input\n",
        "input_text = \"On that day I have not used this card anywhere and also I was in Chennai only Am working at Home only during pandemic periods And Some hacked my OTP and phone also This suspicious transaction was made by someone and the amount is Rs Am requesting to investigate this case and also Recover my money from that theft\"\n",
        "predicted_output = predict_category_and_subcategory(input_text)\n",
        "\n",
        "print(f\"Input: {input_text}\")\n",
        "print(f\"Predicted Output: {predicted_output}\")"
      ]
    }
  ]
}